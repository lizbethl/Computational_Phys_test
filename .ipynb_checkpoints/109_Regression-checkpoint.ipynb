{
 "cells": [
  {
   "cell_type": "markdown",
   "id": "1ea26c3d",
   "metadata": {},
   "source": [
    "# Data fitting - Regression"
   ]
  },
  {
   "cell_type": "code",
   "execution_count": 1,
   "id": "7be2e1ef",
   "metadata": {},
   "outputs": [],
   "source": [
    "import numpy as np\n",
    "import matplotlib.pyplot as plt\n",
    "import pandas as pd"
   ]
  },
  {
   "cell_type": "markdown",
   "id": "ae6068fd",
   "metadata": {},
   "source": [
    "## Data input using pandas\n",
    "\n",
    "we need to inspect the data."
   ]
  },
  {
   "cell_type": "code",
   "execution_count": 22,
   "id": "ef118012",
   "metadata": {},
   "outputs": [
    {
     "name": "stdout",
     "output_type": "stream",
     "text": [
      "    N  Pages  Thickness\n",
      "0   1     10        3.0\n",
      "1   2     20        4.5\n",
      "2   3     30        5.5\n",
      "3   4     40        7.0\n",
      "4   5     50        8.0\n",
      "5   6     60        9.0\n",
      "6   7     70        9.5\n",
      "7   8     80       11.1\n",
      "8   9     90       12.0\n",
      "9  10    100       12.9\n"
     ]
    }
   ],
   "source": [
    "df = pd.read_csv(\"books.txt\", sep = \"\\s+\")\n",
    "#data = pd.read_csv(\"data_4.txt\", sep = \"\\s+\") \n",
    "\n",
    "#print (df)\n",
    "#Get data into arrays\n",
    "#pages = np.array(df[\"Pages\"])\n",
    "#thick = np.array(df[\"Thick\"])\n",
    "                  \n",
    "#print(thick)\n",
    "print(df)\n",
    "                    "
   ]
  },
  {
   "cell_type": "code",
   "execution_count": 25,
   "id": "26365b93",
   "metadata": {},
   "outputs": [],
   "source": [
    "pages = np.array(df[\"Pages\"])\n",
    "thick = np.array(df[\"Thickness\"])"
   ]
  },
  {
   "cell_type": "markdown",
   "id": "d2cec121",
   "metadata": {},
   "source": [
    "## 1. Plotting the data:"
   ]
  },
  {
   "cell_type": "code",
   "execution_count": 31,
   "id": "9a6f275a",
   "metadata": {},
   "outputs": [
    {
     "data": {
      "image/png": "[encoded data removed]",
      "text/plain": [
       "<Figure size 432x288 with 1 Axes>"
      ]
     },
     "metadata": {
      "needs_background": "light"
     },
     "output_type": "display_data"
    }
   ],
   "source": [
    "#Figure enviroment \n",
    "plt.figure()\n",
    "\n",
    "plt.plot(pages, thick, color =\"magenta\", marker = \"+\",linestyle = \"\", label = \"thickness vs. pages\")\n",
    "\n",
    "#Customisation\n",
    "plt.xlabel (\"Pages [# pages]\")\n",
    "plt.ylabel(\"Thickness [mm]\")\n",
    "plt.legend()\n",
    "\n",
    "plt.show()"
   ]
  },
  {
   "cell_type": "code",
   "execution_count": 13,
   "id": "b4fafab0",
   "metadata": {},
   "outputs": [
    {
     "name": "stdout",
     "output_type": "stream",
     "text": [
      "/home/lizbeth/Documentos/Jupyter_Notebooks\r\n"
     ]
    }
   ],
   "source": [
    "!pwd"
   ]
  },
  {
   "cell_type": "code",
   "execution_count": 23,
   "id": "33cf44d1",
   "metadata": {},
   "outputs": [],
   "source": [
    "import scipy.stats as st"
   ]
  },
  {
   "cell_type": "code",
   "execution_count": 32,
   "id": "8aeb3af9",
   "metadata": {},
   "outputs": [
    {
     "ename": "NameError",
     "evalue": "name 'thickness' is not defined",
     "output_type": "error",
     "traceback": [
      "\u001b[0;31m---------------------------------------------------------------------------\u001b[0m",
      "\u001b[0;31mNameError\u001b[0m                                 Traceback (most recent call last)",
      "\u001b[0;32m/tmp/ipykernel_6968/1347244362.py\u001b[0m in \u001b[0;36m<cell line: 3>\u001b[0;34m()\u001b[0m\n\u001b[1;32m      1\u001b[0m \u001b[0;31m#Lets calculate these coefficients\u001b[0m\u001b[0;34m\u001b[0m\u001b[0;34m\u001b[0m\u001b[0m\n\u001b[1;32m      2\u001b[0m \u001b[0;34m\u001b[0m\u001b[0m\n\u001b[0;32m----> 3\u001b[0;31m \u001b[0msp\u001b[0m \u001b[0;34m=\u001b[0m \u001b[0mst\u001b[0m\u001b[0;34m.\u001b[0m\u001b[0mspearmanr\u001b[0m\u001b[0;34m(\u001b[0m\u001b[0mpages\u001b[0m\u001b[0;34m,\u001b[0m \u001b[0mthickness\u001b[0m\u001b[0;34m)\u001b[0m\u001b[0;34m\u001b[0m\u001b[0;34m\u001b[0m\u001b[0m\n\u001b[0m\u001b[1;32m      4\u001b[0m \u001b[0;34m\u001b[0m\u001b[0m\n\u001b[1;32m      5\u001b[0m \u001b[0msp\u001b[0m \u001b[0;34m=\u001b[0m \u001b[0mst\u001b[0m\u001b[0;34m.\u001b[0m\u001b[0mpearsonr\u001b[0m\u001b[0;34m(\u001b[0m\u001b[0mpages\u001b[0m\u001b[0;34m,\u001b[0m \u001b[0mthick\u001b[0m\u001b[0;34m)\u001b[0m\u001b[0;34m\u001b[0m\u001b[0;34m\u001b[0m\u001b[0m\n",
      "\u001b[0;31mNameError\u001b[0m: name 'thickness' is not defined"
     ]
    }
   ],
   "source": [
    "#Lets calculate these coefficients\n",
    "\n",
    "sp = st.spearmanr(pages, thickness)\n",
    "\n",
    "sp = st.pearsonr(pages, thick)\n",
    "\n",
    "\n",
    "\n",
    "print(\"Spearman coef is\",  sp)\n",
    "print(\"Pearson coef is\\n\", pe)"
   ]
  },
  {
   "cell_type": "code",
   "execution_count": 34,
   "id": "9a0d8865",
   "metadata": {},
   "outputs": [],
   "source": [
    "#Get coefficients\n",
    "m, b = np.polyfit(pages, thick, 1) #here you are using the CHI squared method"
   ]
  },
  {
   "cell_type": "code",
   "execution_count": 35,
   "id": "053d0eab",
   "metadata": {},
   "outputs": [
    {
     "name": "stdout",
     "output_type": "stream",
     "text": [
      "slope =  0.10793939393939393 intercept= 2.31333333333333\n"
     ]
    }
   ],
   "source": [
    "#Print to check\n",
    "print('slope = ',m,'intercept=', b )\n",
    "fit_thick = m*pages + b"
   ]
  },
  {
   "cell_type": "code",
   "execution_count": 36,
   "id": "e19cd121",
   "metadata": {},
   "outputs": [
    {
     "data": {
      "image/png": "[encoded data removed]",
      "text/plain": [
       "<Figure size 432x288 with 1 Axes>"
      ]
     },
     "metadata": {
      "needs_background": "light"
     },
     "output_type": "display_data"
    }
   ],
   "source": [
    "#Figure enviroment \n",
    "plt.figure()\n",
    "\n",
    "plt.plot(pages, thick, color =\"magenta\", marker = \"+\",linestyle = \"\", label = \"thickness vs. pages\")\n",
    "plt.plot(pages, fit_thick, color =\"blue\", marker = \"+\",linestyle = \"-\", label = \"thickness vs. pages\")\n",
    "\n",
    "#Customisation\n",
    "plt.xlabel (\"Pages [# pages]\")\n",
    "plt.ylabel(\"Thickness [mm]\")\n",
    "plt.legend()\n",
    "\n",
    "plt.show()"
   ]
  },
  {
   "cell_type": "code",
   "execution_count": null,
   "id": "8c15877e",
   "metadata": {},
   "outputs": [],
   "source": []
  }
 ],
 "metadata": {
  "kernelspec": {
   "display_name": "Python 3 (ipykernel)",
   "language": "python",
   "name": "python3"
  },
  "language_info": {
   "codemirror_mode": {
    "name": "ipython",
    "version": 3
   },
   "file_extension": ".py",
   "mimetype": "text/x-python",
   "name": "python",
   "nbconvert_exporter": "python",
   "pygments_lexer": "ipython3",
   "version": "3.10.11"
  }
 },
 "nbformat": 4,
 "nbformat_minor": 5
}
