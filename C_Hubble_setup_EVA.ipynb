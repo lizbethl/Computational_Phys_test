{
  "cells": [
    {
      "cell_type": "markdown",
      "metadata": {
        "id": "view-in-github",
        "colab_type": "text"
      },
      "source": [
        "<a href=\"https://colab.research.google.com/github/lizbethl/Computational_Phys_test/blob/main/C_Hubble_setup_EVA.ipynb\" target=\"_parent\"><img src=\"https://colab.research.google.com/assets/colab-badge.svg\" alt=\"Open In Colab\"/></a>"
      ]
    },
    {
      "cell_type": "markdown",
      "metadata": {
        "id": "hAFQ1IkoPM6W"
      },
      "source": [
        "**Drive Setup**"
      ]
    },
    {
      "cell_type": "code",
      "execution_count": null,
      "metadata": {
        "colab": {
          "base_uri": "https://localhost:8080/"
        },
        "id": "dqxsQwULPSOD",
        "outputId": "fa9830ae-0a39-4611-91ff-f61641e7fcae"
      },
      "outputs": [
        {
          "output_type": "stream",
          "name": "stdout",
          "text": [
            "Mounted at /content/drive\n",
            "Cloning into '/content/drive/MyDrive/h0wsh2023'...\n",
            "remote: Enumerating objects: 126, done.\u001b[K\n",
            "remote: Counting objects: 100% (126/126), done.\u001b[K\n",
            "remote: Compressing objects: 100% (114/114), done.\u001b[K\n",
            "remote: Total 126 (delta 17), reused 111 (delta 10), pack-reused 0\u001b[K\n",
            "Receiving objects: 100% (126/126), 21.03 MiB | 10.11 MiB/s, done.\n",
            "Resolving deltas: 100% (17/17), done.\n",
            "Updating files: 100% (87/87), done.\n"
          ]
        }
      ],
      "source": [
        "import os\n",
        "from google.colab import drive\n",
        "drive.mount('/content/drive')\n",
        "\n",
        "if not os.path.exists('/content/drive/MyDrive/h0wsh2023'):\n",
        "  os.makedirs('/content/drive/MyDrive/h0wsh2023')\n",
        "\n",
        "!git clone 'https://github.com/blackdragonae/h0wsh2023.git' '/content/drive/MyDrive/h0wsh2023'"
      ]
    }
  ],
  "metadata": {
    "colab": {
      "provenance": [],
      "include_colab_link": true
    },
    "kernelspec": {
      "display_name": "Python 3",
      "name": "python3"
    },
    "language_info": {
      "name": "python"
    }
  },
  "nbformat": 4,
  "nbformat_minor": 0
}