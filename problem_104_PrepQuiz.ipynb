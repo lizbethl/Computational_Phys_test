{
 "cells": [
  {
   "cell_type": "markdown",
   "id": "383c4c36",
   "metadata": {},
   "source": [
    "# Exercise on I/O and basic data analysis:"
   ]
  },
  {
   "cell_type": "markdown",
   "id": "e0298d1d",
   "metadata": {},
   "source": [
    "## Analysis of a wind-cloud simulation"
   ]
  },
  {
   "cell_type": "markdown",
   "id": "e34e8323",
   "metadata": {},
   "source": [
    "Consider a wind-tunnel simulation containing a spherical gas cloud with initial mass, $m_0 = 61.18026$. The cloud is embedded in a constant velocity vector field and can be tracked with three pigments. Pigment 1 traces the core of the cloud, pigment 2 the envelope of the cloud, and pigment 3 the more exterior shell.\n",
    "\n",
    "We carry out the simulation and extract some data on how much these pigments mixed in a data table (see file data_4.txt) with 4 columns (time, mixedmass1, mixedmass2, mixedmass3), where the first column indicates the time in units of $s$ and the last three columns provide the mass of mixed pigment gas,$m_{mix}$ , in units of $g$."
   ]
  },
  {
   "cell_type": "markdown",
   "id": "722aadca",
   "metadata": {},
   "source": [
    "![title](Img/cloud-wind-simulation.jpeg)"
   ]
  },
  {
   "cell_type": "markdown",
   "id": "aa64afc9",
   "metadata": {},
   "source": [
    "## 1. Data Input, analysis, and plotting"
   ]
  },
  {
   "cell_type": "markdown",
   "id": "365db0db",
   "metadata": {},
   "source": [
    "(a) Create a python function to read in the simulation data and return four vector arrays containing:\n",
    "time, mixedmass1, mixedmass2, mixedmass3.\n",
    "\n",
    "(b) Make a single plot $m_{mix}$ versus time of all three pigments. Which part of the cloud mixed the most?\n",
    "\n",
    "(c) Write a Python function that calculates the mixing fractions, $f_{mix}$\n",
    "\n",
    "$f_{mix} = \\frac{m_{mix}}{m_0}$\n",
    "\n",
    "The mixing fractions then represent the fraction of initial cloud mass that mixed in different layers.\n",
    "\n",
    "(d) Make a single plot containing $f_{mix}$ of all three pigments versus time."
   ]
  },
  {
   "cell_type": "code",
   "execution_count": 1,
   "id": "ae0617ee",
   "metadata": {},
   "outputs": [],
   "source": [
    "#import libraries\n",
    "import pandas as pd\n",
    "import numpy as np\n",
    "import matplotlib.pyplot as plt"
   ]
  },
  {
   "cell_type": "code",
   "execution_count": 2,
   "id": "cdc589b5",
   "metadata": {},
   "outputs": [
    {
     "name": "stdout",
     "output_type": "stream",
     "text": [
      "        Time  MixedMass1  MixedMass2  MixedMass3\n",
      "0   0.000000    0.000000    0.000000    0.000000\n",
      "1   0.099800    0.024878    0.000000    0.024878\n",
      "2   0.199956    0.030227    0.039161    0.050699\n",
      "3   0.299681    0.039424    0.831349    0.693602\n",
      "4   0.399916    0.056870    1.259453    1.030902\n",
      "..       ...         ...         ...         ...\n",
      "81  8.099956    4.622937   20.646380    8.763763\n",
      "82  8.199907    5.035324   21.111130    8.756436\n",
      "83  8.299865    5.456865   21.501670    8.721914\n",
      "84  8.399680    5.874080   21.845740    8.669781\n",
      "85  8.499951    6.259131   22.012070    8.606597\n",
      "\n",
      "[86 rows x 4 columns]\n"
     ]
    }
   ],
   "source": [
    "data = pd.read_csv(\"data_4.txt\", sep = \"\\s+\") \n",
    "\n",
    "print(data)"
   ]
  },
  {
   "cell_type": "code",
   "execution_count": 14,
   "id": "cb0a1426",
   "metadata": {},
   "outputs": [],
   "source": [
    "time = data[\"Time\"]\n",
    "mixedmass1 = data[\"MixedMass1\"]\n",
    "mixedmass2= data[\"MixedMass2\"]\n",
    "mixedmass3 = data[\"MixedMass3\"]"
   ]
  },
  {
   "cell_type": "code",
   "execution_count": 15,
   "id": "7daab6cb",
   "metadata": {},
   "outputs": [
    {
     "name": "stdout",
     "output_type": "stream",
     "text": [
      "<class 'pandas.core.frame.DataFrame'>\n"
     ]
    },
    {
     "data": {
      "text/plain": [
       "(None, pandas.core.series.Series)"
      ]
     },
     "execution_count": 15,
     "metadata": {},
     "output_type": "execute_result"
    }
   ],
   "source": [
    "print(type(data)), type(mixedmass2)"
   ]
  },
  {
   "cell_type": "markdown",
   "id": "630e4724",
   "metadata": {},
   "source": [
    "print(time)\n",
    "\n",
    "print(time.shape)"
   ]
  },
  {
   "cell_type": "code",
   "execution_count": null,
   "id": "28095fb5",
   "metadata": {},
   "outputs": [],
   "source": [
    "#Recommendation create 1st data arrays\n",
    "\"\"\"\n",
    "time = np.array(time)                    #time, mixedmass1, mixedmass2, and mixedmass3.\n",
    "mixedmass1 = np.array(mixedmass1)\n",
    "mixedmass2 = np.array(mixedmass2)\n",
    "mixedmass3 = np.array(mixedmass3)\n",
    "\"\"\""
   ]
  },
  {
   "cell_type": "markdown",
   "id": "3d5b2e5d",
   "metadata": {},
   "source": [
    "print(type(time))\n",
    "\n",
    "print(time)"
   ]
  },
  {
   "cell_type": "markdown",
   "id": "79981819",
   "metadata": {},
   "source": [
    "#plotting simple figure\n",
    "plt.figure()\n",
    "\n",
    "plt.plot(time,mixedmass1)\n",
    "plt.xlabel(\"$time [s]$\")\n",
    "plt.ylabel(\"$m_{mix} [g]$\")\n",
    "\n",
    "plt.show()"
   ]
  },
  {
   "cell_type": "markdown",
   "id": "a8109dcf",
   "metadata": {},
   "source": [
    "#Figure enviroment\n",
    "\n",
    "plt.figure(figsize=(4,3))\n",
    "plt.title(\"Mixing of cloud gas mass\")\n",
    "\n",
    "plt.plot(time,mixedmass1, color = \"blue\", linestyle = \"-\", label = \"cloud core\")\n",
    "plt.plot(time,mixedmass2, color = \"red\",  linestyle = \"-\", label = \"cloud envelope\" )\n",
    "plt.plot(time,mixedmass3, color = \"green\",linestyle = \":\", label = \"cloud shell\" )\n",
    "\n",
    "#write x, y labels\n",
    "plt.xlabel(r\"$time$\")\n",
    "plt.ylabel(r\"$ m_{mix}$\")\n",
    "\n",
    "#x and y limits \n",
    "plt.xlim(0,10)\n",
    "plt.ylim(0,30)\n",
    "\n",
    "#add legend\n",
    "plt.legend()\n",
    "\n",
    "#show graph\n",
    "plt.show()"
   ]
  },
  {
   "cell_type": "code",
   "execution_count": 8,
   "id": "35b9d185",
   "metadata": {},
   "outputs": [],
   "source": [
    "#Create a I/O function \n",
    "\n",
    "def readf(filename):\n",
    "  \"\"\"\n",
    "  This is a function that reads a data file\n",
    "  and returns four vectors numpy arrays\n",
    "  Input: Name of the file we want to open \n",
    "  Outputs: Data numpy arrays: time, mixedmass1, mixedmass2, and mixedmass3.\n",
    "  Author: L.A.L.P\n",
    "  Data: 11/05/2023\n",
    "\n",
    "  \"\"\"\n",
    "  #Create a pandas frame\n",
    "  df = pd.read_csv(\"data_4.txt\", sep = \"\\s+\")  #modif data by df \n",
    "\n",
    "#Get data into pandas.Series\n",
    "  time = data[\"Time\"] \n",
    "  mixedmass1 = df[\"MixedMass1\"]\n",
    "  mixedmass2 = df[\"MixedMass2\"]\n",
    "  mixedmass3 = df[\"MixedMass3\"]\n",
    "#Pandas obj to numpy arrays \n",
    "  time = np.array(time)\n",
    "  mixedmass1 = np.array(mixedmass1)\n",
    "  mixedmass2 = np.array(mixedmass2)\n",
    "  mixedmass3 = np.array(mixedmass3)\n",
    "\n",
    "#Return outputs\n",
    "  return time, mixedmass1, mixedmass2, mixedmass3"
   ]
  },
  {
   "cell_type": "code",
   "execution_count": 37,
   "id": "2b766703",
   "metadata": {},
   "outputs": [
    {
     "name": "stdout",
     "output_type": "stream",
     "text": [
      "(86,)\n"
     ]
    }
   ],
   "source": [
    "#Test function\n",
    "data_file = \"./data_4.txt\"\n",
    "#time, mixedmass1, mixedmass2, mixedmass3 = readf(data_file)\n",
    "time, mixedmass1, mixedmass2, mixedmass3 = readf(data_file)\n",
    "print(time.shape)\n",
    "#print(readf(data_file))"
   ]
  },
  {
   "cell_type": "markdown",
   "id": "41f5bf33",
   "metadata": {},
   "source": [
    "(b) Make a single plot of $m_{mix}$ versus time of all three $(i)$ pigments. Which part of the cloud mixed the most? pwd ls -ltr  wq test-git2.txt ls-ltr   upload github pwd git add .   git commit -m \"new file for github\"  git push   git pull  git"
   ]
  },
  {
   "cell_type": "code",
   "execution_count": 17,
   "id": "5f6542dc",
   "metadata": {},
   "outputs": [
    {
     "data": {
      "image/png": "[encoded data removed]",
      "text/plain": [
       "<Figure size 432x288 with 1 Axes>"
      ]
     },
     "metadata": {
      "needs_background": "light"
     },
     "output_type": "display_data"
    }
   ],
   "source": [
    "#Figure enviroment\n",
    "\n",
    "plt.figure(figsize=(6,4))\n",
    "plt.title(\"Mixed mass of a cloud gas\")\n",
    "\n",
    "plt.plot(time,mixedmass1, color = \"blue\", linestyle = \"-\", label = \"cloud core\")\n",
    "plt.plot(time,mixedmass2, color = \"red\",  linestyle = \":\", label = \"cloud envelope\" )\n",
    "plt.plot(time,mixedmass3, color = \"green\",linestyle = \"-.\", label = \"cloud shell\" )\n",
    "\n",
    "#write x, y labels\n",
    "plt.xlabel(r\"$time$\")\n",
    "plt.ylabel(r\"$ m_{mix}$\")\n",
    "\n",
    "#x and y limits \n",
    "plt.xlim(0,10)\n",
    "plt.ylim(0,30)\n",
    "\n",
    "#add legend\n",
    "plt.legend()\n",
    "\n",
    "#show graph\n",
    "plt.show()"
   ]
  },
  {
   "cell_type": "markdown",
   "id": "bbc58e60",
   "metadata": {},
   "source": [
    "### Answer:\n",
    "\n",
    "The part of the cloud that mixed the most was the envelope ( traces by pigment 2)"
   ]
  },
  {
   "cell_type": "markdown",
   "id": "4c1cd512",
   "metadata": {},
   "source": [
    "(c). Write a Python function that calculates the mixing fractions,$f_{mix,i}$, for each pigment, according to the following definition:\n",
    "\n",
    "$f_{mix,i} = \\frac{m_{mix,i}}{m_0} $ \n",
    "\n",
    "The mixing fractions then represent the fraction of inicial cloud mass that mixed in different layers."
   ]
  },
  {
   "cell_type": "code",
   "execution_count": 73,
   "id": "5d5a4a87",
   "metadata": {},
   "outputs": [],
   "source": [
    "#m0 = 61.18026\n",
    "\n",
    "def mixf(mixedmass_i, m0):\n",
    "    \"\"\"\n",
    "    This function will compute the mixing fractions for the cloud \n",
    "    Inputs: mixedmass, m0\n",
    "    Outputs: fmix1, fmix2, fmix3\n",
    "    \n",
    "    \"\"\"\n",
    "    #what does this function\n",
    "    fmix1 = mixedmass_i/m0\n",
    "    \n",
    "   \n",
    "    return fmix1\n",
    "    "
   ]
  },
  {
   "cell_type": "code",
   "execution_count": 86,
   "id": "144f9a06",
   "metadata": {},
   "outputs": [],
   "source": [
    "m0 = 61.18026\n",
    "\"\"\"\n",
    "You don't need to call mixedmass1 again as \n",
    "data frame just call the variable\n",
    "mixedmass1 = np.array(df[\"MixedMass1\"])\n",
    "mixedmass2 = np.array(df[\"MixedMass2\"])\n",
    "mixedmass3 = np.array(df[\"MixedMass3\"])\n",
    "\"\"\"\n",
    "fmix1 = mixf(mixedmass1,m0)\n",
    "fmix2 = mixf(mixedmass2,m0)\n",
    "fmix3 = mixf(mixedmass3,m0)\n",
    "\n",
    "#print(fmix1)\n",
    "\n"
   ]
  },
  {
   "cell_type": "markdown",
   "id": "965ef1be",
   "metadata": {},
   "source": [
    "### (d) Make a single plot containing $f_{mix}$ of all three pigments versus time."
   ]
  },
  {
   "cell_type": "code",
   "execution_count": 84,
   "id": "5dacb719",
   "metadata": {},
   "outputs": [
    {
     "data": {
      "image/png": "[encoded data removed]",
      "text/plain": [
       "<Figure size 432x288 with 1 Axes>"
      ]
     },
     "metadata": {
      "needs_background": "light"
     },
     "output_type": "display_data"
    }
   ],
   "source": [
    "#Figure enviroment\n",
    "\n",
    "plt.figure()\n",
    "plt.title(\"Mixing Fractions vs time\")\n",
    "\n",
    "plt.plot(time,fmix1, linestyle = \"-\", label = \"cloud core\")\n",
    "plt.plot(time,fmix2, linestyle = \":\", label = \"cloud envelope\" )\n",
    "plt.plot(time,fmix3, linestyle = \"-.\", label = \"cloud shell\" )\n",
    "\n",
    "#write x, y labels\n",
    "plt.xlabel(r\"$time$\")\n",
    "plt.ylabel(r\"$ m_{mix}$\")\n",
    "\n",
    "\n",
    "#add legend\n",
    "plt.legend()\n",
    "\n",
    "#show graph\n",
    "plt.show()\n"
   ]
  },
  {
   "cell_type": "markdown",
   "id": "d5998b62",
   "metadata": {},
   "source": [
    "### 2. Professor atemp"
   ]
  },
  {
   "cell_type": "code",
   "execution_count": 87,
   "id": "c60b9992",
   "metadata": {},
   "outputs": [],
   "source": [
    "#Create a Function\n",
    "m0 = 61.18026\n",
    "\n",
    "def mixf(mixedmass,m0):\n",
    "    \"\"\"\n",
    "    This function will compute the mixing fractions for the cloud \n",
    "    Inputs: mixedmass, m0\n",
    "    Outputs: fmix1, fmix2, fmix3\n",
    "    \n",
    "    \"\"\"\n",
    "    fmix = mixedmass/m0\n",
    "    \n",
    "    return fmix"
   ]
  },
  {
   "cell_type": "code",
   "execution_count": null,
   "id": "81c447cd",
   "metadata": {},
   "outputs": [],
   "source": [
    "fmix1 = mixf(mixedmass1, m0)\n",
    "fmix2 = mixf(mixedmass2, m0)\n",
    "fmix3 = mixf(mixedmass3, m0)"
   ]
  },
  {
   "cell_type": "code",
   "execution_count": null,
   "id": "afc3e956",
   "metadata": {},
   "outputs": [],
   "source": [
    "#Test function\n",
    "print(fmix1)"
   ]
  },
  {
   "cell_type": "code",
   "execution_count": null,
   "id": "3b537b22",
   "metadata": {},
   "outputs": [],
   "source": [
    "#Plot f_mix vs time\n",
    "\n",
    "#Figure enviroment\n",
    "\n",
    "plt.figure(figsize=(4,3))\n",
    "plt.title(\"Mixing Fractions vs time\")\n",
    "\n",
    "plt.plot(time,fmix1, linestyle = \"-\", label = \"cloud core\")\n",
    "plt.plot(time,fmix2, linestyle = \":\", label = \"cloud envelope\" )\n",
    "plt.plot(time,fmix3, linestyle = \"-.\", label = \"cloud shell\" )\n",
    "\n",
    "#write x, y labels\n",
    "plt.xlabel(r\"$time$\")\n",
    "plt.ylabel(r\"$ m_{mix}$\")\n",
    "\n",
    "\n",
    "#add legend\n",
    "plt.legend()\n",
    "\n",
    "#show graph\n",
    "plt.show()\n"
   ]
  }
 ],
 "metadata": {
  "kernelspec": {
   "display_name": "Python 3 (ipykernel)",
   "language": "python",
   "name": "python3"
  },
  "language_info": {
   "codemirror_mode": {
    "name": "ipython",
    "version": 3
   },
   "file_extension": ".py",
   "mimetype": "text/x-python",
   "name": "python",
   "nbconvert_exporter": "python",
   "pygments_lexer": "ipython3",
   "version": "3.10.11"
  }
 },
 "nbformat": 4,
 "nbformat_minor": 5
}
